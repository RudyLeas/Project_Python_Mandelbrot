{
 "cells": [
  {
   "cell_type": "markdown",
   "source": [
    "##  instaluje biblioteki numpy, matplotlib i Pillow, które są niezbędne do obliczeń numerycznych, wizualizacji danych i obróbki obrazów."
   ],
   "metadata": {
    "collapsed": false
   },
   "id": "460808a329b9f5c5"
  },
  {
   "cell_type": "code",
   "execution_count": 6,
   "outputs": [
    {
     "name": "stdout",
     "output_type": "stream",
     "text": [
      "Requirement already satisfied: numpy in /home/kuba/anaconda3/lib/python3.11/site-packages (1.23.5)\r\n",
      "Requirement already satisfied: matplotlib in /home/kuba/anaconda3/lib/python3.11/site-packages (3.7.2)\r\n",
      "Requirement already satisfied: Pillow in /home/kuba/anaconda3/lib/python3.11/site-packages (9.4.0)\r\n",
      "Requirement already satisfied: contourpy>=1.0.1 in /home/kuba/anaconda3/lib/python3.11/site-packages (from matplotlib) (1.0.5)\r\n",
      "Requirement already satisfied: cycler>=0.10 in /home/kuba/anaconda3/lib/python3.11/site-packages (from matplotlib) (0.11.0)\r\n",
      "Requirement already satisfied: fonttools>=4.22.0 in /home/kuba/anaconda3/lib/python3.11/site-packages (from matplotlib) (4.25.0)\r\n",
      "Requirement already satisfied: kiwisolver>=1.0.1 in /home/kuba/anaconda3/lib/python3.11/site-packages (from matplotlib) (1.4.4)\r\n",
      "Requirement already satisfied: packaging>=20.0 in /home/kuba/.local/lib/python3.11/site-packages (from matplotlib) (23.2)\r\n",
      "Requirement already satisfied: pyparsing<3.1,>=2.3.1 in /home/kuba/anaconda3/lib/python3.11/site-packages (from matplotlib) (3.0.9)\r\n",
      "Requirement already satisfied: python-dateutil>=2.7 in /home/kuba/anaconda3/lib/python3.11/site-packages (from matplotlib) (2.8.2)\r\n",
      "Requirement already satisfied: six>=1.5 in /home/kuba/anaconda3/lib/python3.11/site-packages (from python-dateutil>=2.7->matplotlib) (1.16.0)\r\n"
     ]
    }
   ],
   "source": [
    "!pip install numpy matplotlib Pillow\n"
   ],
   "metadata": {
    "collapsed": false,
    "ExecuteTime": {
     "end_time": "2024-01-21T17:39:42.625241227Z",
     "start_time": "2024-01-21T17:39:36.128732994Z"
    }
   },
   "id": "initial_id"
  },
  {
   "cell_type": "markdown",
   "source": [
    "### Importowanie Bibliotek"
   ],
   "metadata": {
    "collapsed": false
   },
   "id": "4f9d9f800cf36e63"
  },
  {
   "cell_type": "code",
   "execution_count": 7,
   "outputs": [],
   "source": [
    "import numpy as np\n",
    "import matplotlib.pyplot as plt\n",
    "import matplotlib.colors as mcolors\n",
    "from PIL import Image, ImageDraw"
   ],
   "metadata": {
    "collapsed": false,
    "ExecuteTime": {
     "end_time": "2024-01-21T17:39:42.626986857Z",
     "start_time": "2024-01-21T17:39:42.614651677Z"
    }
   },
   "id": "b3f14ddaab199d22"
  },
  {
   "cell_type": "markdown",
   "source": [
    "### ustawiane są parametry dla obliczeń zbioru Mandelbrota, takie jak rozmiar obrazu (size), maksymalna liczba iteracji (no_iter) i próg dla wartości (treshold), które są kluczowe w procesie generowania zbioru."
   ],
   "metadata": {
    "collapsed": false
   },
   "id": "b7d527f10c40e83c"
  },
  {
   "cell_type": "code",
   "execution_count": 8,
   "outputs": [],
   "source": [
    "size=1000\n",
    "no_iter=30\n",
    "treshold=2"
   ],
   "metadata": {
    "collapsed": false,
    "ExecuteTime": {
     "end_time": "2024-01-21T17:39:42.644429672Z",
     "start_time": "2024-01-21T17:39:42.626393842Z"
    }
   },
   "id": "21492b63ed3cb54e"
  },
  {
   "cell_type": "markdown",
   "source": [
    "### funkcja diverge, która oblicza, czy dany punkt należy do zbioru Mandelbrota. Iteruje przez określoną liczbę iteracji, sprawdzając, czy wartość zespolona z 'ucieka do nieskończoności'."
   ],
   "metadata": {
    "collapsed": false
   },
   "id": "172bf8011a1cb311"
  },
  {
   "cell_type": "code",
   "execution_count": 9,
   "outputs": [],
   "source": [
    "def diverge(c):\n",
    "    z=0\n",
    "    no_iter=30\n",
    "    treshold=80\n",
    "    for i in range(no_iter):\n",
    "        z=z**2+c\n",
    "        if abs(z)>treshold: return 1\n",
    "    return 0"
   ],
   "metadata": {
    "collapsed": false,
    "ExecuteTime": {
     "end_time": "2024-01-21T17:39:42.686113834Z",
     "start_time": "2024-01-21T17:39:42.641380160Z"
    }
   },
   "id": "78f57b5b7aa634f"
  },
  {
   "cell_type": "markdown",
   "source": [
    "### diverge_hue, która generuje kolor dla każdego punktu w zbiorze Mandelbrota, w zależności od liczby iteracji potrzebnych do 'ucieczki'.\n",
    "pomysł na kolorowanie zaczerpnięty z:\n",
    "https://www.codingame.com/playgrounds/2358/how-to-plot-the-mandelbrot-set/adding-some-colors"
   ],
   "metadata": {
    "collapsed": false
   },
   "id": "6ba1a6a43eed3de5"
  },
  {
   "cell_type": "code",
   "execution_count": 10,
   "outputs": [],
   "source": [
    "def diverge_hue(c):\n",
    "    z=0\n",
    "    n=0\n",
    "    while abs(z) <= treshold and n < no_iter:\n",
    "        z = z*z + c\n",
    "        n += 1\n",
    "    hue=int(255*n/no_iter)\n",
    "    saturation=255\n",
    "    value=255 if n<no_iter else 0\n",
    "    return hue,saturation, value"
   ],
   "metadata": {
    "collapsed": false,
    "ExecuteTime": {
     "end_time": "2024-01-21T17:39:42.688824013Z",
     "start_time": "2024-01-21T17:39:42.649155804Z"
    }
   },
   "id": "8b644b1daab80d6d"
  },
  {
   "cell_type": "markdown",
   "source": [
    "### mat_bin, która tworzy macierz binarną reprezentującą zbiór Mandelbrota. Dla każdego punktu na siatce oblicza, czy należy on do zbioru, a wyniki zapisuje w macierzy.\n",
    "### macierz 2-wymiarowa potrzebna dla reprezentacji monochromatycznej\n"
   ],
   "metadata": {
    "collapsed": false
   },
   "id": "89dcbc70a212fae2"
  },
  {
   "cell_type": "code",
   "execution_count": 11,
   "outputs": [],
   "source": [
    "\n",
    "def mat_bin(xmin,xmax,ymin,ymax):\n",
    "    x = np.linspace(xmin, xmax, size)\n",
    "    y = np.linspace(ymin, ymax, size)\n",
    "    X, Y = np.meshgrid(x, y)\n",
    "    Z = X + 1j * Y\n",
    "    flat=Z.flatten()\n",
    "    result=[diverge(number) for number in flat ]\n",
    "    matrix=np.array(result).reshape(size,size)\n",
    "    return matrix"
   ],
   "metadata": {
    "collapsed": false,
    "ExecuteTime": {
     "end_time": "2024-01-21T17:39:42.711272630Z",
     "start_time": "2024-01-21T17:39:42.662584988Z"
    }
   },
   "id": "e1d2fa69de239f82"
  },
  {
   "cell_type": "markdown",
   "source": [
    "###  mat_hue, która generuje macierz HSV (odcień, nasycenie, wartość) dla każdego punktu zbioru Mandelbrota. Pozwala to na bardziej zaawansowane wizualizacje zbioru.\n",
    "### macierz 3-wymiarowa dla której każda z warstw odpowiada za wartości H-hue, S- saturation, V- value"
   ],
   "metadata": {
    "collapsed": false
   },
   "id": "fff6b812b3e0225d"
  },
  {
   "cell_type": "code",
   "execution_count": 12,
   "outputs": [],
   "source": [
    "def mat_hue(xmin,xmax,ymin,ymax):\n",
    "    x = np.linspace(xmin, xmax, size)\n",
    "    y = np.linspace(ymin, ymax, size)\n",
    "    X, Y = np.meshgrid(x, y)\n",
    "    Z = X + 1j * Y\n",
    "    flat=Z.flatten()\n",
    "    result_hue=[diverge_hue(number)[0] for number in flat ]\n",
    "    result_sat=[diverge_hue(number)[1] for number in flat ]\n",
    "    result_val=[diverge_hue(number)[2] for number in flat ]\n",
    "    hue_matrix = np.array(result_hue).reshape(size,size)\n",
    "    sat_matrix = np.array(result_sat).reshape(size,size)\n",
    "    val_matrix = np.array(result_val).reshape(size,size)\n",
    "    hsv_matrix = np.zeros((size, size, 3))\n",
    "    hsv_matrix[:, :, 0] = hue_matrix  # Hue\n",
    "    hsv_matrix[:, :, 1] = sat_matrix  # Saturation\n",
    "    hsv_matrix[:, :, 2] = val_matrix  # Value\n",
    "    return hsv_matrix"
   ],
   "metadata": {
    "collapsed": false,
    "ExecuteTime": {
     "end_time": "2024-01-21T17:39:42.728651214Z",
     "start_time": "2024-01-21T17:39:42.706225159Z"
    }
   },
   "id": "363e237d8b09ef2b"
  },
  {
   "cell_type": "markdown",
   "source": [
    " ### konfigurowanie map kolorów i generowanie wizualizacji zbioru Mandelbrota z różnymi zakresami wartości.Dla reprezenetacji czarno"
   ],
   "metadata": {
    "collapsed": false
   },
   "id": "1f39aa3fbe1abe44"
  },
  {
   "cell_type": "code",
   "execution_count": 13,
   "outputs": [],
   "source": [
    "cmap_custom = mcolors.ListedColormap(['white', 'black'])\n",
    "matrix_overall=mat_bin(-2,1,-2,1)\n",
    "mat_specific=mat_bin(0,0.5,0,0.5)\n"
   ],
   "metadata": {
    "collapsed": false,
    "ExecuteTime": {
     "end_time": "2024-01-21T17:39:53.399154713Z",
     "start_time": "2024-01-21T17:39:42.706891883Z"
    }
   },
   "id": "277a3fd17574791f"
  },
  {
   "cell_type": "markdown",
   "source": [
    "### Rysowanie całego zbioru i zapis do pliku."
   ],
   "metadata": {
    "collapsed": false
   },
   "id": "160ae7780573f565"
  },
  {
   "cell_type": "code",
   "execution_count": 14,
   "outputs": [
    {
     "data": {
      "text/plain": "<Figure size 640x480 with 1 Axes>",
      "image/png": "[encoded data removed]"
     },
     "metadata": {},
     "output_type": "display_data"
    }
   ],
   "source": [
    "plt.imshow(matrix_overall, cmap=cmap_custom)\n",
    "\n",
    "plt.imsave('test.png', matrix_overall, cmap=cmap_custom)"
   ],
   "metadata": {
    "collapsed": false,
    "ExecuteTime": {
     "end_time": "2024-01-21T17:39:53.891156460Z",
     "start_time": "2024-01-21T17:39:53.445658153Z"
    }
   },
   "id": "3be46b64bfaef17"
  },
  {
   "cell_type": "markdown",
   "source": [],
   "metadata": {
    "collapsed": false
   },
   "id": "9e1261691d47063a"
  },
  {
   "cell_type": "markdown",
   "source": [
    "### Algorytm sprawdza się też na zbliżeniach poszczególnych części zbioru."
   ],
   "metadata": {
    "collapsed": false
   },
   "id": "beb82b57dacb5c87"
  },
  {
   "cell_type": "code",
   "execution_count": 15,
   "outputs": [
    {
     "data": {
      "text/plain": "<matplotlib.image.AxesImage at 0x7fd24fd05190>"
     },
     "execution_count": 15,
     "metadata": {},
     "output_type": "execute_result"
    },
    {
     "data": {
      "text/plain": "<Figure size 640x480 with 1 Axes>",
      "image/png": "[encoded data removed]"
     },
     "metadata": {},
     "output_type": "display_data"
    }
   ],
   "source": [
    "plt.imshow(mat_specific, cmap=cmap_custom)"
   ],
   "metadata": {
    "collapsed": false,
    "ExecuteTime": {
     "end_time": "2024-01-21T17:40:02.061890825Z",
     "start_time": "2024-01-21T17:39:53.894935586Z"
    }
   },
   "id": "a697840e447a0a24"
  },
  {
   "cell_type": "markdown",
   "source": [
    "### generowanie obrazu zbioru Mandelbrota w przestrzeni kolorów HSV, który następnie jest konwertowany do formatu RGB i zapisywany jako plik PNG.\n",
    "\n"
   ],
   "metadata": {
    "collapsed": false
   },
   "id": "2d1d290db51a0bba"
  },
  {
   "cell_type": "code",
   "execution_count": 16,
   "outputs": [],
   "source": [
    "hsv_matrix=mat_hue(-2,2,-2,2)\n",
    "im = Image.new('HSV', (size, size), (0, 0, 0))\n",
    "draw = ImageDraw.Draw(im)\n",
    "for x in range(0, size):\n",
    "    for y in range(0, size):\n",
    "        draw.point([x, y], (hsv_matrix[x, y, 0].astype(int), hsv_matrix[x, y, 1].astype(int), hsv_matrix[x, y, 2].astype(int)))\n",
    "im.convert('RGB').save('output.png', 'PNG')"
   ],
   "metadata": {
    "collapsed": false,
    "ExecuteTime": {
     "end_time": "2024-01-21T17:40:13.509858180Z",
     "start_time": "2024-01-21T17:40:02.067101405Z"
    }
   },
   "id": "9df2235281fb2bec"
  }
 ],
 "metadata": {
  "kernelspec": {
   "display_name": "Python 3",
   "language": "python",
   "name": "python3"
  },
  "language_info": {
   "codemirror_mode": {
    "name": "ipython",
    "version": 2
   },
   "file_extension": ".py",
   "mimetype": "text/x-python",
   "name": "python",
   "nbconvert_exporter": "python",
   "pygments_lexer": "ipython2",
   "version": "2.7.6"
  }
 },
 "nbformat": 4,
 "nbformat_minor": 5
}
